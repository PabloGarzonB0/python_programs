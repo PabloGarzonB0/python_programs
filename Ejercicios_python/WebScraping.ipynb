{
 "cells": [
  {
   "cell_type": "code",
   "execution_count": null,
   "metadata": {},
   "outputs": [],
   "source": [
    "# Importacion de librerias\n",
    "from bs4 import BeautifulSoup\n",
    "import requests"
   ]
  },
  {
   "cell_type": "markdown",
   "metadata": {},
   "source": [
    "Ejemplo 1. de HTML donde se extraera informacion para analizar"
   ]
  },
  {
   "cell_type": "code",
   "execution_count": 4,
   "metadata": {},
   "outputs": [
    {
     "data": {
      "text/html": [
       "<!DOCTYPE html>\n",
       "<html>\n",
       "<head>\n",
       "<title>Page Title</title>\n",
       "</head>\n",
       "<body>\n",
       "<h3><b id=\"boldest\">Lebron James</b></h3>\n",
       "<p> Salary:  $92,000,000</p>\n",
       "<h3> Sthephen Curry </h3>\n",
       "<p> Salary:  $85,000,000</p>\n",
       "<h3> Kevin Durant </h3>\n",
       "<p> Salary:  $73,200,000</p>\n",
       "</body>\n",
       "</html>\n"
      ],
      "text/plain": [
       "<IPython.core.display.HTML object>"
      ]
     },
     "metadata": {},
     "output_type": "display_data"
    }
   ],
   "source": [
    "\n",
    "%%HTML\n",
    "<!DOCTYPE html>\n",
    "<html>\n",
    "<head>\n",
    "<title>Page Title</title>\n",
    "</head>\n",
    "<body>\n",
    "<h3><b id=\"boldest\">Lebron James</b></h3>\n",
    "<p> Salary:  $92,000,000</p>\n",
    "<h3> Sthephen Curry </h3>\n",
    "<p> Salary:  $85,000,000</p>\n",
    "<h3> Kevin Durant </h3>\n",
    "<p> Salary:  $73,200,000</p>\n",
    "</body>\n",
    "</html>"
   ]
  },
  {
   "cell_type": "code",
   "execution_count": 5,
   "metadata": {},
   "outputs": [],
   "source": [
    "html=\"<!DOCTYPE html><html><head><title>Page Title</title></head><body><h3><b id='boldest'>Lebron James</b> \\\n",
    "</h3><p> Salary: $ 92,000,000 </p><h3> Stephen Curry</h3><p> Salary: $85,000, 000 </p><h3> Kevin Durant </h3><p> \\\n",
    "Salary: $73,200, 000</p></body></html>\""
   ]
  },
  {
   "cell_type": "code",
   "execution_count": 9,
   "metadata": {},
   "outputs": [
    {
     "name": "stdout",
     "output_type": "stream",
     "text": [
      "<!DOCTYPE html>\n",
      "<html>\n",
      " <head>\n",
      "  <title>\n",
      "   Page Title\n",
      "  </title>\n",
      " </head>\n",
      " <body>\n",
      "  <h3>\n",
      "   <b id=\"boldest\">\n",
      "    Lebron James\n",
      "   </b>\n",
      "  </h3>\n",
      "  <p>\n",
      "   Salary: $ 92,000,000\n",
      "  </p>\n",
      "  <h3>\n",
      "   Stephen Curry\n",
      "  </h3>\n",
      "  <p>\n",
      "   Salary: $85,000, 000\n",
      "  </p>\n",
      "  <h3>\n",
      "   Kevin Durant\n",
      "  </h3>\n",
      "  <p>\n",
      "   Salary: $73,200, 000\n",
      "  </p>\n",
      " </body>\n",
      "</html>\n",
      "\n"
     ]
    }
   ],
   "source": [
    "# Creacion de insatncia de BeautifulSoup\n",
    "soup = BeautifulSoup(html, 'lxml')\n",
    "print(soup.prettify())"
   ]
  },
  {
   "cell_type": "code",
   "execution_count": null,
   "metadata": {},
   "outputs": [
    {
     "name": "stdout",
     "output_type": "stream",
     "text": [
      "tag object text:  Page Title\n",
      "tag type :  <class 'bs4.element.Tag'>\n"
     ]
    }
   ],
   "source": [
    "# Extraccion de informacion de las etiquetas del archivo HTML\n",
    "tag_object = soup.title\n",
    "print(\"tag object text: \", tag_object.text)\n",
    "print(\"tag type : \", type(tag_object))\n",
    "\n",
    "# Si existen mas tag con el mismo nombre, el primero de ellos sera llamado"
   ]
  },
  {
   "cell_type": "code",
   "execution_count": 19,
   "metadata": {},
   "outputs": [
    {
     "data": {
      "text/plain": [
       "<b id=\"boldest\">Lebron James</b>"
      ]
     },
     "execution_count": 19,
     "metadata": {},
     "output_type": "execute_result"
    }
   ],
   "source": [
    "tag_object = soup.h3\n",
    "tag_child = tag_object.b\n",
    "tag_child"
   ]
  },
  {
   "cell_type": "code",
   "execution_count": 24,
   "metadata": {},
   "outputs": [
    {
     "name": "stdout",
     "output_type": "stream",
     "text": [
      "<h3><b id=\"boldest\">Lebron James</b> </h3>\n",
      "Sibling_1 <p> Salary: $ 92,000,000 </p>\n",
      "Sibling_2 <h3> Stephen Curry</h3>\n"
     ]
    }
   ],
   "source": [
    "# Obtener informacion de la tag padre de la siguiente manera\n",
    "parent_tag = tag_child.parent\n",
    "print(parent_tag)\n",
    "sibling_1 = tag_object.next_sibling\n",
    "sibling_2 = sibling_1.next_sibling\n",
    "print(f\"Sibling_1 {sibling_1}\")\n",
    "print(f\"Sibling_2 {sibling_2}\")\n",
    "\n"
   ]
  },
  {
   "cell_type": "code",
   "execution_count": 30,
   "metadata": {},
   "outputs": [
    {
     "name": "stdout",
     "output_type": "stream",
     "text": [
      "Stephen  Salary: $ 92,000,000 \n"
     ]
    }
   ],
   "source": [
    "SalaryStephen = sibling_2.next_sibling\n",
    "print(f\"Stephen {sibling_1.text}\")"
   ]
  },
  {
   "cell_type": "markdown",
   "metadata": {},
   "source": [
    "Se puede acceder a los atributos de la etiqueta mediante la indicacion que se le da a un diccionario"
   ]
  },
  {
   "cell_type": "code",
   "execution_count": 32,
   "metadata": {},
   "outputs": [
    {
     "data": {
      "text/plain": [
       "{'id': 'boldest'}"
      ]
     },
     "execution_count": 32,
     "metadata": {},
     "output_type": "execute_result"
    }
   ],
   "source": [
    "tag_child['id']  # Extrae el nombre del identificador de la etiqueta\n",
    "tag_child.attrs"
   ]
  },
  {
   "cell_type": "code",
   "execution_count": 33,
   "metadata": {},
   "outputs": [
    {
     "data": {
      "text/plain": [
       "'boldest'"
      ]
     },
     "execution_count": 33,
     "metadata": {},
     "output_type": "execute_result"
    }
   ],
   "source": [
    "tag_child.get('id')"
   ]
  },
  {
   "cell_type": "code",
   "execution_count": 37,
   "metadata": {},
   "outputs": [
    {
     "data": {
      "text/plain": [
       "str"
      ]
     },
     "execution_count": 37,
     "metadata": {},
     "output_type": "execute_result"
    }
   ],
   "source": [
    "tag_string = tag_child.string\n",
    "type(str(tag_string))"
   ]
  },
  {
   "cell_type": "markdown",
   "metadata": {},
   "source": [
    "Ejemplo 2 de HTML donde se extraera informacion para analizar"
   ]
  },
  {
   "cell_type": "code",
   "execution_count": 38,
   "metadata": {},
   "outputs": [
    {
     "data": {
      "text/html": [
       "<table>\n",
       "  <tr>\n",
       "    <td id='flight' >Flight No</td>\n",
       "    <td>Launch site</td> \n",
       "    <td>Payload mass</td>\n",
       "   </tr>\n",
       "  <tr> \n",
       "    <td>1</td>\n",
       "    <td><a href='https://en.wikipedia.org/wiki/Florida'>Florida</a></td>\n",
       "    <td>300 kg</td>\n",
       "  </tr>\n",
       "  <tr>\n",
       "    <td>2</td>\n",
       "    <td><a href='https://en.wikipedia.org/wiki/Texas'>Texas</a></td>\n",
       "    <td>94 kg</td>\n",
       "  </tr>\n",
       "  <tr>\n",
       "    <td>3</td>\n",
       "    <td><a href='https://en.wikipedia.org/wiki/Florida'>Florida<a> </td>\n",
       "    <td>80 kg</td>\n",
       "  </tr>\n",
       "</table>\n"
      ],
      "text/plain": [
       "<IPython.core.display.HTML object>"
      ]
     },
     "metadata": {},
     "output_type": "display_data"
    }
   ],
   "source": [
    "%%html\n",
    "<table>\n",
    "  <tr>\n",
    "    <td id='flight' >Flight No</td>\n",
    "    <td>Launch site</td> \n",
    "    <td>Payload mass</td>\n",
    "   </tr>\n",
    "  <tr> \n",
    "    <td>1</td>\n",
    "    <td><a href='https://en.wikipedia.org/wiki/Florida'>Florida</a></td>\n",
    "    <td>300 kg</td>\n",
    "  </tr>\n",
    "  <tr>\n",
    "    <td>2</td>\n",
    "    <td><a href='https://en.wikipedia.org/wiki/Texas'>Texas</a></td>\n",
    "    <td>94 kg</td>\n",
    "  </tr>\n",
    "  <tr>\n",
    "    <td>3</td>\n",
    "    <td><a href='https://en.wikipedia.org/wiki/Florida'>Florida<a> </td>\n",
    "    <td>80 kg</td>\n",
    "  </tr>\n",
    "</table>"
   ]
  },
  {
   "cell_type": "code",
   "execution_count": 39,
   "metadata": {},
   "outputs": [],
   "source": [
    "# asignacion de html a variabel\n",
    "table =\"<table><tr><td id='flight'>Flight No</td><td>Launch site</td> <td>Payload mass</td></tr><tr> <td>1</td><td><a href='https://en.wikipedia.org/wiki/Florida'>Florida<a></td><td>300 kg</td></tr><tr><td>2</td><td><a href='https://en.wikipedia.org/wiki/Texas'>Texas</a></td><td>94 kg</td></tr><tr><td>3</td><td><a href='https://en.wikipedia.org/wiki/Florida'>Florida<a> </td><td>80 kg</td></tr></table>\""
   ]
  },
  {
   "cell_type": "code",
   "execution_count": 40,
   "metadata": {},
   "outputs": [],
   "source": [
    "table_bs = BeautifulSoup(table, 'html5lib')"
   ]
  },
  {
   "cell_type": "markdown",
   "metadata": {},
   "source": [
    "## Extraer etiquetas"
   ]
  },
  {
   "cell_type": "code",
   "execution_count": 41,
   "metadata": {},
   "outputs": [
    {
     "data": {
      "text/plain": [
       "[<tr><td id=\"flight\">Flight No</td><td>Launch site</td> <td>Payload mass</td></tr>,\n",
       " <tr> <td>1</td><td><a href=\"https://en.wikipedia.org/wiki/Florida\">Florida</a><a></a></td><td>300 kg</td></tr>,\n",
       " <tr><td>2</td><td><a href=\"https://en.wikipedia.org/wiki/Texas\">Texas</a></td><td>94 kg</td></tr>,\n",
       " <tr><td>3</td><td><a href=\"https://en.wikipedia.org/wiki/Florida\">Florida</a><a> </a></td><td>80 kg</td></tr>]"
      ]
     },
     "execution_count": 41,
     "metadata": {},
     "output_type": "execute_result"
    }
   ],
   "source": [
    "# El metodo find_all() permite encontrar todas las coincidencias con un determinado nombre\n",
    "# find_all(name, attrs, recursive, string, limit, **kwargs) Parametros utilizados\n",
    "table_rows = table_bs.find_all('tr')\n",
    "table_rows"
   ]
  },
  {
   "cell_type": "code",
   "execution_count": 46,
   "metadata": {},
   "outputs": [
    {
     "name": "stdout",
     "output_type": "stream",
     "text": [
      "Primer elemento:  <tr><td id=\"flight\">Flight No</td><td>Launch site</td> <td>Payload mass</td></tr>\n"
     ]
    },
    {
     "data": {
      "text/plain": [
       "<td id=\"flight\">Flight No</td>"
      ]
     },
     "execution_count": 46,
     "metadata": {},
     "output_type": "execute_result"
    }
   ],
   "source": [
    "firs_row = table_rows[0]  # Extrae el elemento y sus clases hijas\n",
    "print(\"Primer elemento: \", firs_row)\n",
    "firs_row.td"
   ]
  },
  {
   "cell_type": "code",
   "execution_count": 50,
   "metadata": {},
   "outputs": [
    {
     "name": "stdout",
     "output_type": "stream",
     "text": [
      "row 0\n",
      "colunm 0 cell <td id=\"flight\">Flight No</td>\n",
      "colunm 1 cell <td>Launch site</td>\n",
      "colunm 2 cell <td>Payload mass</td>\n",
      "row 1\n",
      "colunm 0 cell <td>1</td>\n",
      "colunm 1 cell <td><a href=\"https://en.wikipedia.org/wiki/Florida\">Florida</a><a></a></td>\n",
      "colunm 2 cell <td>300 kg</td>\n",
      "row 2\n",
      "colunm 0 cell <td>2</td>\n",
      "colunm 1 cell <td><a href=\"https://en.wikipedia.org/wiki/Texas\">Texas</a></td>\n",
      "colunm 2 cell <td>94 kg</td>\n",
      "row 3\n",
      "colunm 0 cell <td>3</td>\n",
      "colunm 1 cell <td><a href=\"https://en.wikipedia.org/wiki/Florida\">Florida</a><a> </a></td>\n",
      "colunm 2 cell <td>80 kg</td>\n"
     ]
    }
   ],
   "source": [
    "# Para recorrer todas las coincidencias encontradas se realiza lo siguiente\n",
    "for i, row in enumerate(table_rows):\n",
    "    print(\"row\", i)    \n",
    "    cells = row.find_all(\"td\")   \n",
    "    for j, cell in enumerate(cells):\n",
    "        print('colunm', j, \"cell\", cell)"
   ]
  },
  {
   "cell_type": "code",
   "execution_count": 52,
   "metadata": {},
   "outputs": [
    {
     "data": {
      "text/plain": [
       "[<tr><td id=\"flight\">Flight No</td><td>Launch site</td> <td>Payload mass</td></tr>,\n",
       " <td id=\"flight\">Flight No</td>,\n",
       " <td>Launch site</td>,\n",
       " <td>Payload mass</td>,\n",
       " <tr> <td>1</td><td><a href=\"https://en.wikipedia.org/wiki/Florida\">Florida</a><a></a></td><td>300 kg</td></tr>,\n",
       " <td>1</td>,\n",
       " <td><a href=\"https://en.wikipedia.org/wiki/Florida\">Florida</a><a></a></td>,\n",
       " <td>300 kg</td>,\n",
       " <tr><td>2</td><td><a href=\"https://en.wikipedia.org/wiki/Texas\">Texas</a></td><td>94 kg</td></tr>,\n",
       " <td>2</td>,\n",
       " <td><a href=\"https://en.wikipedia.org/wiki/Texas\">Texas</a></td>,\n",
       " <td>94 kg</td>,\n",
       " <tr><td>3</td><td><a href=\"https://en.wikipedia.org/wiki/Florida\">Florida</a><a> </a></td><td>80 kg</td></tr>,\n",
       " <td>3</td>,\n",
       " <td><a href=\"https://en.wikipedia.org/wiki/Florida\">Florida</a><a> </a></td>,\n",
       " <td>80 kg</td>]"
      ]
     },
     "execution_count": 52,
     "metadata": {},
     "output_type": "execute_result"
    }
   ],
   "source": [
    "list_input = table_bs.find_all(name=[\"tr\", \"td\"])\n",
    "list_input"
   ]
  },
  {
   "cell_type": "markdown",
   "metadata": {},
   "source": [
    "## Extraer  atributos"
   ]
  },
  {
   "cell_type": "code",
   "execution_count": 55,
   "metadata": {},
   "outputs": [
    {
     "data": {
      "text/plain": [
       "[<a href=\"https://en.wikipedia.org/wiki/Florida\">Florida</a>,\n",
       " <a href=\"https://en.wikipedia.org/wiki/Florida\">Florida</a>]"
      ]
     },
     "execution_count": 55,
     "metadata": {},
     "output_type": "execute_result"
    }
   ],
   "source": [
    "# Para identificadores\n",
    "table_bs.find_all(id=\"flight\")\n",
    "# Para enlaces href\n",
    "list_input = table_bs.find_all(href=\"https://en.wikipedia.org/wiki/Florida\")\n",
    "list_input "
   ]
  },
  {
   "cell_type": "code",
   "execution_count": null,
   "metadata": {},
   "outputs": [
    {
     "data": {
      "text/plain": [
       "[<a href=\"https://en.wikipedia.org/wiki/Florida\">Florida</a>,\n",
       " <a href=\"https://en.wikipedia.org/wiki/Texas\">Texas</a>,\n",
       " <a href=\"https://en.wikipedia.org/wiki/Florida\">Florida</a>]"
      ]
     },
     "execution_count": 56,
     "metadata": {},
     "output_type": "execute_result"
    }
   ],
   "source": [
    "table_bs.find_all(href=True)   # Extrae todos los enlaces del archivo html"
   ]
  },
  {
   "cell_type": "code",
   "execution_count": 61,
   "metadata": {},
   "outputs": [
    {
     "data": {
      "text/plain": [
       "['Florida', 'Florida']"
      ]
     },
     "execution_count": 61,
     "metadata": {},
     "output_type": "execute_result"
    }
   ],
   "source": [
    "table_bs.find_all(href=False)\n",
    "table_bs.find_all(id='flight')\n",
    "table_bs.find_all(string='Florida')"
   ]
  },
  {
   "cell_type": "code",
   "execution_count": 62,
   "metadata": {},
   "outputs": [
    {
     "data": {
      "text/html": [
       "<h3>Rocket Launch </h3>\n",
       "\n",
       "<p>\n",
       "<table class='rocket'>\n",
       "  <tr>\n",
       "    <td>Flight No</td>\n",
       "    <td>Launch site</td> \n",
       "    <td>Payload mass</td>\n",
       "  </tr>\n",
       "  <tr>\n",
       "    <td>1</td>\n",
       "    <td>Florida</td>\n",
       "    <td>300 kg</td>\n",
       "  </tr>\n",
       "  <tr>\n",
       "    <td>2</td>\n",
       "    <td>Texas</td>\n",
       "    <td>94 kg</td>\n",
       "  </tr>\n",
       "  <tr>\n",
       "    <td>3</td>\n",
       "    <td>Florida </td>\n",
       "    <td>80 kg</td>\n",
       "  </tr>\n",
       "</table>\n",
       "</p>\n",
       "<p>\n",
       "\n",
       "<h3>Pizza Party  </h3>\n",
       "  \n",
       "    \n",
       "<table class='pizza'>\n",
       "  <tr>\n",
       "    <td>Pizza Place</td>\n",
       "    <td>Orders</td> \n",
       "    <td>Slices </td>\n",
       "   </tr>\n",
       "  <tr>\n",
       "    <td>Domino's Pizza</td>\n",
       "    <td>10</td>\n",
       "    <td>100</td>\n",
       "  </tr>\n",
       "  <tr>\n",
       "    <td>Little Caesars</td>\n",
       "    <td>12</td>\n",
       "    <td >144 </td>\n",
       "  </tr>\n",
       "  <tr>\n",
       "    <td>Papa John's </td>\n",
       "    <td>15 </td>\n",
       "    <td>165</td>\n",
       "  </tr>\n"
      ],
      "text/plain": [
       "<IPython.core.display.HTML object>"
      ]
     },
     "metadata": {},
     "output_type": "display_data"
    }
   ],
   "source": [
    "%%html\n",
    "<h3>Rocket Launch </h3>\n",
    "\n",
    "<p>\n",
    "<table class='rocket'>\n",
    "  <tr>\n",
    "    <td>Flight No</td>\n",
    "    <td>Launch site</td> \n",
    "    <td>Payload mass</td>\n",
    "  </tr>\n",
    "  <tr>\n",
    "    <td>1</td>\n",
    "    <td>Florida</td>\n",
    "    <td>300 kg</td>\n",
    "  </tr>\n",
    "  <tr>\n",
    "    <td>2</td>\n",
    "    <td>Texas</td>\n",
    "    <td>94 kg</td>\n",
    "  </tr>\n",
    "  <tr>\n",
    "    <td>3</td>\n",
    "    <td>Florida </td>\n",
    "    <td>80 kg</td>\n",
    "  </tr>\n",
    "</table>\n",
    "</p>\n",
    "<p>\n",
    "\n",
    "<h3>Pizza Party  </h3>\n",
    "  \n",
    "    \n",
    "<table class='pizza'>\n",
    "  <tr>\n",
    "    <td>Pizza Place</td>\n",
    "    <td>Orders</td> \n",
    "    <td>Slices </td>\n",
    "   </tr>\n",
    "  <tr>\n",
    "    <td>Domino's Pizza</td>\n",
    "    <td>10</td>\n",
    "    <td>100</td>\n",
    "  </tr>\n",
    "  <tr>\n",
    "    <td>Little Caesars</td>\n",
    "    <td>12</td>\n",
    "    <td >144 </td>\n",
    "  </tr>\n",
    "  <tr>\n",
    "    <td>Papa John's </td>\n",
    "    <td>15 </td>\n",
    "    <td>165</td>\n",
    "  </tr>\n"
   ]
  },
  {
   "cell_type": "markdown",
   "metadata": {},
   "source": [
    "Hay 2 tablas embebidas en el mismo atributo de tipo, two_tables"
   ]
  },
  {
   "cell_type": "code",
   "execution_count": 63,
   "metadata": {},
   "outputs": [],
   "source": [
    "two_tables=\"<h3>Rocket Launch </h3><p><table class='rocket'><tr><td>Flight No</td><td>Launch site</td> <td>Payload mass</td></tr><tr><td>1</td><td>Florida</td><td>300 kg</td></tr><tr><td>2</td><td>Texas</td><td>94 kg</td></tr><tr><td>3</td><td>Florida </td><td>80 kg</td></tr></table></p><p><h3>Pizza Party  </h3><table class='pizza'><tr><td>Pizza Place</td><td>Orders</td> <td>Slices </td></tr><tr><td>Domino's Pizza</td><td>10</td><td>100</td></tr><tr><td>Little Caesars</td><td>12</td><td >144 </td></tr><tr><td>Papa John's </td><td>15 </td><td>165</td></tr>\""
   ]
  },
  {
   "cell_type": "code",
   "execution_count": 65,
   "metadata": {},
   "outputs": [],
   "source": [
    "# Creamos una instancion de tipo BeautifulSoup\n",
    "two_tables_bs = BeautifulSoup(two_tables, 'html.parser')"
   ]
  },
  {
   "cell_type": "code",
   "execution_count": null,
   "metadata": {},
   "outputs": [
    {
     "data": {
      "text/plain": [
       "<table class=\"rocket\"><tr><td>Flight No</td><td>Launch site</td> <td>Payload mass</td></tr><tr><td>1</td><td>Florida</td><td>300 kg</td></tr><tr><td>2</td><td>Texas</td><td>94 kg</td></tr><tr><td>3</td><td>Florida </td><td>80 kg</td></tr></table>"
      ]
     },
     "execution_count": 74,
     "metadata": {},
     "output_type": "execute_result"
    }
   ],
   "source": [
    "table1 = two_tables_bs.find(\"table\", class_ =\"rocket\") #Extrae la primera table el archivo\n",
    "table2 = two_tables_bs.find(\"table\", class_=\"pizza\")\n"
   ]
  },
  {
   "cell_type": "markdown",
   "metadata": {},
   "source": [
    "### Como descargar y extraer datos del contenido de una pagina web"
   ]
  },
  {
   "cell_type": "code",
   "execution_count": null,
   "metadata": {},
   "outputs": [],
   "source": [
    "URL = \"http://www.ibm.com\"\n",
    "data = requests.get(URL).text\n",
    "# Creacion de instancia de BeautifulSoup\n",
    "content = BeautifulSoup(data, 'html5lib')"
   ]
  },
  {
   "cell_type": "code",
   "execution_count": 78,
   "metadata": {},
   "outputs": [
    {
     "name": "stdout",
     "output_type": "stream",
     "text": [
      "https://www.ibm.com/granite?lnk=hpad1us\n",
      "https://developer.ibm.com/technologies/artificial-intelligence?lnk=hpad2us\n",
      "https://www.ibm.com/products/watsonx-code-assistant?lnk=hpad3us\n",
      "https://www.ibm.com/watsonx/developer/?lnk=hpad4us\n",
      "https://www.ibm.com/thought-leadership/institute-business-value/report/ceo-generative-ai?lnk=hpab1us\n",
      "https://www.ibm.com/think/reports/ai-in-action?lnk=hpab2us\n",
      "https://www.ibm.com/impact/ai-ethics?lnk=hpab3us\n",
      "https://www.ibm.com/account/reg/signup?formid=news-urx-52954&lnk=hpab4us\n",
      "https://www.ibm.com/artificial-intelligence?lnk=hpfp1us\n",
      "https://www.ibm.com/hybrid-cloud?lnk=hpfp2us\n",
      "https://www.ibm.com/consulting?lnk=hpfp3us\n",
      "https://www.ibm.com/case-studies/water-corporation\n",
      "https://www.ibm.com/case-studies/ibm-software-team\n"
     ]
    }
   ],
   "source": [
    "# Extraccion de todos los link de la pagina\n",
    "for link in content.find_all('a', href=True):\n",
    "    print(link.get('href'))\n",
    "        "
   ]
  },
  {
   "cell_type": "code",
   "execution_count": null,
   "metadata": {},
   "outputs": [],
   "source": [
    "# Extraccion de todas las imagenes\n",
    "for img in content.find_all('img'):\n",
    "    print(img)\n",
    "    print(img.get('src'))\n",
    "    \n",
    "# En definitiva, no hay imagenes"
   ]
  },
  {
   "cell_type": "code",
   "execution_count": 80,
   "metadata": {},
   "outputs": [],
   "source": [
    "URL = \"https://cf-courses-data.s3.us.cloud-object-storage.appdomain.cloud/IBM-DA0321EN-SkillsNetwork/labs/datasets/HTMLColorCodes.html\""
   ]
  },
  {
   "cell_type": "code",
   "execution_count": 82,
   "metadata": {},
   "outputs": [],
   "source": [
    "data = requests.get(URL).text\n",
    "content2 = BeautifulSoup(data, 'html.parser')"
   ]
  },
  {
   "cell_type": "code",
   "execution_count": 88,
   "metadata": {},
   "outputs": [
    {
     "data": {
      "text/plain": [
       "[<table border=\"1\" class=\"main-table\">\n",
       " <tr>\n",
       " <td>Number </td>\n",
       " <td>Color</td>\n",
       " <td>Color Name</td>\n",
       " <td>Hex Code<br/>#RRGGBB</td>\n",
       " <td>Decimal Code<br/>(R,G,B)</td>\n",
       " </tr>\n",
       " <tr>\n",
       " <td>1</td>\n",
       " <td style=\"background:lightsalmon;\"> </td>\n",
       " <td>lightsalmon</td>\n",
       " <td>#FFA07A</td>\n",
       " <td>rgb(255,160,122)</td>\n",
       " </tr>\n",
       " <tr>\n",
       " <td>2</td>\n",
       " <td style=\"background:salmon;\"> </td>\n",
       " <td>salmon</td>\n",
       " <td>#FA8072</td>\n",
       " <td>rgb(250,128,114)</td>\n",
       " </tr>\n",
       " <tr>\n",
       " <td>3</td>\n",
       " <td style=\"background:darksalmon;\"> </td>\n",
       " <td>darksalmon</td>\n",
       " <td>#E9967A</td>\n",
       " <td>rgb(233,150,122)</td>\n",
       " </tr>\n",
       " <tr>\n",
       " <td>4</td>\n",
       " <td style=\"background:lightcoral;\"> </td>\n",
       " <td>lightcoral</td>\n",
       " <td>#F08080</td>\n",
       " <td>rgb(240,128,128)</td>\n",
       " </tr>\n",
       " <tr>\n",
       " <td>5</td>\n",
       " <td style=\"background:coral;\"> </td>\n",
       " <td>coral</td>\n",
       " <td>#FF7F50</td>\n",
       " <td>rgb(255,127,80)</td>\n",
       " </tr>\n",
       " <tr>\n",
       " <td>6</td>\n",
       " <td style=\"background:tomato;\"> </td>\n",
       " <td>tomato</td>\n",
       " <td>#FF6347</td>\n",
       " <td>rgb(255,99,71)</td>\n",
       " </tr>\n",
       " <tr>\n",
       " <td>7</td>\n",
       " <td style=\"background:orangered;\"> </td>\n",
       " <td>orangered</td>\n",
       " <td>#FF4500</td>\n",
       " <td>rgb(255,69,0)</td>\n",
       " </tr>\n",
       " <tr>\n",
       " <td>8</td>\n",
       " <td style=\"background:gold;\"> </td>\n",
       " <td>gold</td>\n",
       " <td>#FFD700</td>\n",
       " <td>rgb(255,215,0)</td>\n",
       " </tr>\n",
       " <tr>\n",
       " <td>9</td>\n",
       " <td style=\"background:orange;\"> </td>\n",
       " <td>orange</td>\n",
       " <td>#FFA500</td>\n",
       " <td>rgb(255,165,0)</td>\n",
       " </tr>\n",
       " <tr>\n",
       " <td>10</td>\n",
       " <td style=\"background:darkorange;\"> </td>\n",
       " <td>darkorange</td>\n",
       " <td>#FF8C00</td>\n",
       " <td>rgb(255,140,0)</td>\n",
       " </tr>\n",
       " <tr>\n",
       " <td>11</td>\n",
       " <td style=\"background:lightyellow;\"> </td>\n",
       " <td>lightyellow</td>\n",
       " <td>#FFFFE0</td>\n",
       " <td>rgb(255,255,224)</td>\n",
       " </tr>\n",
       " <tr>\n",
       " <td>12</td>\n",
       " <td style=\"background:lemonchiffon;\"> </td>\n",
       " <td>lemonchiffon</td>\n",
       " <td>#FFFACD</td>\n",
       " <td>rgb(255,250,205)</td>\n",
       " </tr>\n",
       " <tr>\n",
       " <td>13</td>\n",
       " <td style=\"background:papayawhip;\"> </td>\n",
       " <td>papayawhip</td>\n",
       " <td>#FFEFD5</td>\n",
       " <td>rgb(255,239,213)</td>\n",
       " </tr>\n",
       " <tr>\n",
       " <td>14</td>\n",
       " <td style=\"background:moccasin;\"> </td>\n",
       " <td>moccasin</td>\n",
       " <td>#FFE4B5</td>\n",
       " <td>rgb(255,228,181)</td>\n",
       " </tr>\n",
       " <tr>\n",
       " <td>15</td>\n",
       " <td style=\"background:peachpuff;\"> </td>\n",
       " <td>peachpuff</td>\n",
       " <td>#FFDAB9</td>\n",
       " <td>rgb(255,218,185)</td>\n",
       " </tr>\n",
       " <tr>\n",
       " <td>16</td>\n",
       " <td style=\"background:palegoldenrod;\"> </td>\n",
       " <td>palegoldenrod</td>\n",
       " <td>#EEE8AA</td>\n",
       " <td>rgb(238,232,170)</td>\n",
       " </tr>\n",
       " <tr>\n",
       " <td>17</td>\n",
       " <td style=\"background:khaki;\"> </td>\n",
       " <td>khaki</td>\n",
       " <td>#F0E68C</td>\n",
       " <td>rgb(240,230,140)</td>\n",
       " </tr>\n",
       " <tr>\n",
       " <td>18</td>\n",
       " <td style=\"background:darkkhaki;\"> </td>\n",
       " <td>darkkhaki</td>\n",
       " <td>#BDB76B</td>\n",
       " <td>rgb(189,183,107)</td>\n",
       " </tr>\n",
       " <tr>\n",
       " <td>19</td>\n",
       " <td style=\"background:yellow;\"> </td>\n",
       " <td>yellow</td>\n",
       " <td>#FFFF00</td>\n",
       " <td>rgb(255,255,0)</td>\n",
       " </tr>\n",
       " <tr>\n",
       " <td>20</td>\n",
       " <td style=\"background:lawngreen;\"> </td>\n",
       " <td>lawngreen</td>\n",
       " <td>#7CFC00</td>\n",
       " <td>rgb(124,252,0)</td>\n",
       " </tr>\n",
       " <tr>\n",
       " <td>21</td>\n",
       " <td style=\"background:chartreuse;\"> </td>\n",
       " <td>chartreuse</td>\n",
       " <td>#7FFF00</td>\n",
       " <td>rgb(127,255,0)</td>\n",
       " </tr>\n",
       " <tr>\n",
       " <td>22</td>\n",
       " <td style=\"background:limegreen;\"> </td>\n",
       " <td>limegreen</td>\n",
       " <td>#32CD32</td>\n",
       " <td>rgb(50,205,50)</td>\n",
       " </tr>\n",
       " <tr>\n",
       " <td>23</td>\n",
       " <td style=\"background:lime;\"> </td>\n",
       " <td>lime</td>\n",
       " <td>#00FF00</td>\n",
       " <td>rgb(0.255.0)</td>\n",
       " </tr>\n",
       " <tr>\n",
       " <td>24</td>\n",
       " <td style=\"background:forestgreen;\"> </td>\n",
       " <td>forestgreen</td>\n",
       " <td>#228B22</td>\n",
       " <td>rgb(34,139,34)</td>\n",
       " </tr>\n",
       " <tr>\n",
       " <td>25</td>\n",
       " <td style=\"background:green;\"> </td>\n",
       " <td>green</td>\n",
       " <td>#008000</td>\n",
       " <td>rgb(0,128,0)</td>\n",
       " </tr>\n",
       " <tr>\n",
       " <td>26</td>\n",
       " <td style=\"background:powderblue;\"> </td>\n",
       " <td>powderblue</td>\n",
       " <td>#B0E0E6</td>\n",
       " <td>rgb(176,224,230)</td>\n",
       " </tr>\n",
       " <tr>\n",
       " <td>27</td>\n",
       " <td style=\"background:lightblue;\"> </td>\n",
       " <td>lightblue</td>\n",
       " <td>#ADD8E6</td>\n",
       " <td>rgb(173,216,230)</td>\n",
       " </tr>\n",
       " <tr>\n",
       " <td>28</td>\n",
       " <td style=\"background:lightskyblue;\"> </td>\n",
       " <td>lightskyblue</td>\n",
       " <td>#87CEFA</td>\n",
       " <td>rgb(135,206,250)</td>\n",
       " </tr>\n",
       " <tr>\n",
       " <td>29</td>\n",
       " <td style=\"background:skyblue;\"> </td>\n",
       " <td>skyblue</td>\n",
       " <td>#87CEEB</td>\n",
       " <td>rgb(135,206,235)</td>\n",
       " </tr>\n",
       " <tr>\n",
       " <td>30</td>\n",
       " <td style=\"background:deepskyblue;\"> </td>\n",
       " <td>deepskyblue</td>\n",
       " <td>#00BFFF</td>\n",
       " <td>rgb(0,191,255)</td>\n",
       " </tr>\n",
       " <tr>\n",
       " <td>31</td>\n",
       " <td style=\"background:lightsteelblue;\"> </td>\n",
       " <td>lightsteelblue</td>\n",
       " <td>#B0C4DE</td>\n",
       " <td>rgb(176,196,222)</td>\n",
       " </tr>\n",
       " <tr>\n",
       " <td>32</td>\n",
       " <td style=\"background:dodgerblue;\"> </td>\n",
       " <td>dodgerblue</td>\n",
       " <td>#1E90FF</td>\n",
       " <td>rgb(30,144,255)</td>\n",
       " </tr>\n",
       " </table>]"
      ]
     },
     "execution_count": 88,
     "metadata": {},
     "output_type": "execute_result"
    }
   ],
   "source": [
    "# Encontrar la tabla dentro de la pagina web\n",
    "tabla_informacion = content2.find_all('table')\n",
    "tabla_informacion"
   ]
  },
  {
   "cell_type": "code",
   "execution_count": 92,
   "metadata": {},
   "outputs": [
    {
     "name": "stdout",
     "output_type": "stream",
     "text": [
      "lightsalmon--->#FFA07A\n",
      "salmon--->#FA8072\n",
      "darksalmon--->#E9967A\n",
      "lightcoral--->#F08080\n",
      "coral--->#FF7F50\n",
      "tomato--->#FF6347\n",
      "orangered--->#FF4500\n",
      "gold--->#FFD700\n",
      "orange--->#FFA500\n",
      "darkorange--->#FF8C00\n",
      "lightyellow--->#FFFFE0\n",
      "lemonchiffon--->#FFFACD\n",
      "papayawhip--->#FFEFD5\n",
      "moccasin--->#FFE4B5\n",
      "peachpuff--->#FFDAB9\n",
      "palegoldenrod--->#EEE8AA\n",
      "khaki--->#F0E68C\n",
      "darkkhaki--->#BDB76B\n",
      "yellow--->#FFFF00\n",
      "lawngreen--->#7CFC00\n",
      "chartreuse--->#7FFF00\n",
      "limegreen--->#32CD32\n",
      "lime--->#00FF00\n",
      "forestgreen--->#228B22\n",
      "green--->#008000\n",
      "powderblue--->#B0E0E6\n",
      "lightblue--->#ADD8E6\n",
      "lightskyblue--->#87CEFA\n",
      "skyblue--->#87CEEB\n",
      "deepskyblue--->#00BFFF\n",
      "lightsteelblue--->#B0C4DE\n",
      "dodgerblue--->#1E90FF\n"
     ]
    }
   ],
   "source": [
    "# Obtener todos los atributos dentro de la tabla\n",
    "for i, row in enumerate(content2.find_all('tr')):\n",
    "    if i == 0:\n",
    "        continue\n",
    "    # Obtener cada columna de datos\n",
    "    colum = row.find_all('td')\n",
    "    color_name = colum[2].string\n",
    "    color_code = colum[3].string\n",
    "    print(\"{}--->{}\".format(color_name,color_code))\n"
   ]
  }
 ],
 "metadata": {
  "kernelspec": {
   "display_name": "Python 3",
   "language": "python",
   "name": "python3"
  },
  "language_info": {
   "codemirror_mode": {
    "name": "ipython",
    "version": 3
   },
   "file_extension": ".py",
   "mimetype": "text/x-python",
   "name": "python",
   "nbconvert_exporter": "python",
   "pygments_lexer": "ipython3",
   "version": "3.12.1"
  }
 },
 "nbformat": 4,
 "nbformat_minor": 2
}
